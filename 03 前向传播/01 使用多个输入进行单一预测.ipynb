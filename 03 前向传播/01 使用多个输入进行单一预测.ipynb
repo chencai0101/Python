{
 "cells": [
  {
   "cell_type": "markdown",
   "metadata": {},
   "source": [
    "### 使用多个输入进行单一预测"
   ]
  },
  {
   "cell_type": "markdown",
   "metadata": {},
   "source": [
    "> 这里，我们将输入某次比赛中脚趾的数量，输赢的场次，粉丝的数量来预测本次比赛是否会取得胜利"
   ]
  },
  {
   "cell_type": "code",
   "execution_count": 2,
   "metadata": {},
   "outputs": [
    {
     "name": "stdout",
     "output_type": "stream",
     "text": [
      "0.9800000000000001\n"
     ]
    }
   ],
   "source": [
    "import numpy as np\n",
    "\n",
    "weights = np.array([0.1, 0.2, 0 ])              # 权重\n",
    "\n",
    "toes = np.array([8.5, 9.5, 9.9, 9.0])           # 脚趾的数量\n",
    "wlrec = np.array([0.65, 0.8, 0.8, 0.9])         # 胜负记录\n",
    "fans = np.array([1.2, 1.3, 0.5, 1.0])           # 粉丝的数量\n",
    "\n",
    "input = np.array([toes[0], wlrec[0], fans[0]])  # 本次被预测样本\n",
    "\n",
    "def neural_network(input, weights):\n",
    "    pred = np.dot(weights,input)\n",
    "    return pred \n",
    "\n",
    "pred = neural_network(input, weights)\n",
    "print(pred)                                     # 获胜概率为 0.98"
   ]
  }
 ],
 "metadata": {
  "kernelspec": {
   "display_name": "python-learning",
   "language": "python",
   "name": "python3"
  },
  "language_info": {
   "codemirror_mode": {
    "name": "ipython",
    "version": 3
   },
   "file_extension": ".py",
   "mimetype": "text/x-python",
   "name": "python",
   "nbconvert_exporter": "python",
   "pygments_lexer": "ipython3",
   "version": "3.11.5"
  }
 },
 "nbformat": 4,
 "nbformat_minor": 2
}
