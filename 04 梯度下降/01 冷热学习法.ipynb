{
 "cells": [
  {
   "cell_type": "markdown",
   "metadata": {},
   "source": [
    "#### 冷热学习法\n",
    "\n",
    "> 冷热学习法的基本思想是：如果当前预测存在误差，那么我们应该调整权值来减小误差。调整的方向有两个\n",
    "1. 将权值变得更大\n",
    "2. 将权值的变得更小\n",
    "\n",
    "我们可以分别的记录当前改变权值后的误差。哪个新权值让误差更小，我们就保留将就权值更新为这个新权值。"
   ]
  },
  {
   "cell_type": "code",
   "execution_count": null,
   "metadata": {},
   "outputs": [],
   "source": [
    "weight = 0.5\n",
    "input = 0.5\n",
    "goal_prediction = 0.8                           # 期望的预测值\n",
    "\n",
    "setp_amount = 0.01                              # 学习率\n",
    "\n",
    "for i in range(1000):\n",
    "    prediction = input*weight\n",
    "    error = (prediction-goal_prediction)**2     # 计算平方误差\n",
    "\n",
    "    print(\"iterations\"+str(i)+\":error = \"+str(error))\n",
    "\n",
    "    up_prediction = input*(weight+setp_amount)\n",
    "    up_error = (up_prediction - goal_prediction)**2\n",
    "\n",
    "    down_prediction = input*(weight-setp_amount)\n",
    "    down_error = (down_prediction - goal_prediction)**2\n",
    "\n",
    "    if(down_error < up_error):\n",
    "        weight = weight-setp_amount\n",
    "    else:\n",
    "        weight = weight+setp_amount"
   ]
  },
  {
   "cell_type": "markdown",
   "metadata": {},
   "source": [
    "经过1000次迭代后 2.4999999999995603e-05  是一个非常小的数字，表示2.4×10的负五次方，约为0.0000024"
   ]
  }
 ],
 "metadata": {
  "kernelspec": {
   "display_name": "python-learning",
   "language": "python",
   "name": "python3"
  },
  "language_info": {
   "codemirror_mode": {
    "name": "ipython",
    "version": 3
   },
   "file_extension": ".py",
   "mimetype": "text/x-python",
   "name": "python",
   "nbconvert_exporter": "python",
   "pygments_lexer": "ipython3",
   "version": "3.11.5"
  }
 },
 "nbformat": 4,
 "nbformat_minor": 2
}
