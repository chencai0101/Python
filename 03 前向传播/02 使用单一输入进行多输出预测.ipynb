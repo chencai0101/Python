{
 "cells": [
  {
   "cell_type": "markdown",
   "metadata": {},
   "source": [
    "### 使用单一输入进行多个输出预测\n",
    "\n",
    "> 这里，我们将输入某场比赛胜负的可能性。预测是否有人受伤，是否胜利，是否难过这三个输出结果"
   ]
  },
  {
   "cell_type": "code",
   "execution_count": 1,
   "metadata": {},
   "outputs": [
    {
     "name": "stdout",
     "output_type": "stream",
     "text": [
      "[0.195, 0.13, 0.5850000000000001]\n"
     ]
    }
   ],
   "source": [
    "wlrec = [0.65, 0.8, 0.8, 0.9]            # 胜负记录\n",
    "weights = [0.3, 0.2, 0.9]                # 权重\n",
    "\n",
    "input = wlrec[0]\n",
    "\n",
    "def ele_mul(number, vector):             # 预测是否有人受伤，是否胜利，是否难过。\n",
    "    output = [0, 0, 0]          \n",
    "    assert(len(vector)==len(output))\n",
    "    for i in range(len(vector)):\n",
    "        output[i] = number*vector[i]\n",
    "    return output;\n",
    "    \n",
    "def neural_network(input, weigths):\n",
    "    pred = ele_mul(input, weights)\n",
    "    return pred\n",
    "\n",
    "pred = neural_network(input, weights)   \n",
    "print(pred)                             #  [0.195, 0.13, 0.5850000000000001]"
   ]
  },
  {
   "cell_type": "markdown",
   "metadata": {},
   "source": [
    "这里实际上进行的计算是：\n",
    "$$\n",
    "0.65 \\times 0.3 = 0.195 \\\\\n",
    "0.65 \\times 0.2 = 0.13  \\\\\n",
    "0.65 \\times 0.9 = 0.585\n",
    "$$"
   ]
  }
 ],
 "metadata": {
  "kernelspec": {
   "display_name": "python-learning",
   "language": "python",
   "name": "python3"
  },
  "language_info": {
   "codemirror_mode": {
    "name": "ipython",
    "version": 3
   },
   "file_extension": ".py",
   "mimetype": "text/x-python",
   "name": "python",
   "nbconvert_exporter": "python",
   "pygments_lexer": "ipython3",
   "version": "3.11.5"
  }
 },
 "nbformat": 4,
 "nbformat_minor": 2
}
